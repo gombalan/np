{
 "cells": [
  {
   "cell_type": "code",
   "execution_count": 1,
   "id": "f8602e65",
   "metadata": {},
   "outputs": [],
   "source": [
    "import \"github.com/gombalan/np\""
   ]
  },
  {
   "cell_type": "code",
   "execution_count": 5,
   "id": "64494f52",
   "metadata": {
    "scrolled": true
   },
   "outputs": [],
   "source": [
    "a := np.Arange(0, 0, 1)"
   ]
  },
  {
   "cell_type": "code",
   "execution_count": 6,
   "id": "b3b835f7",
   "metadata": {},
   "outputs": [
    {
     "data": {
      "text/plain": [
       "{[] one or more parameters are invalid}"
      ]
     },
     "execution_count": 6,
     "metadata": {},
     "output_type": "execute_result"
    }
   ],
   "source": [
    "a"
   ]
  },
  {
   "cell_type": "code",
   "execution_count": 4,
   "id": "d6de9cce",
   "metadata": {},
   "outputs": [
    {
     "data": {
      "text/plain": [
       "5 <nil>"
      ]
     },
     "execution_count": 4,
     "metadata": {},
     "output_type": "execute_result"
    }
   ],
   "source": [
    "a.Len()"
   ]
  },
  {
   "cell_type": "code",
   "execution_count": 5,
   "id": "c28887ee",
   "metadata": {},
   "outputs": [
    {
     "data": {
      "text/plain": [
       "4 <nil>"
      ]
     },
     "execution_count": 5,
     "metadata": {},
     "output_type": "execute_result"
    }
   ],
   "source": [
    "a.Max()"
   ]
  },
  {
   "cell_type": "code",
   "execution_count": 6,
   "id": "cfc9621b",
   "metadata": {},
   "outputs": [
    {
     "data": {
      "text/plain": [
       "0 <nil>"
      ]
     },
     "execution_count": 6,
     "metadata": {},
     "output_type": "execute_result"
    }
   ],
   "source": [
    "a.Min()"
   ]
  },
  {
   "cell_type": "code",
   "execution_count": 7,
   "id": "7ed04025",
   "metadata": {},
   "outputs": [
    {
     "data": {
      "text/plain": [
       "4 <nil>"
      ]
     },
     "execution_count": 7,
     "metadata": {},
     "output_type": "execute_result"
    }
   ],
   "source": [
    "a.Ptp()"
   ]
  },
  {
   "cell_type": "code",
   "execution_count": 8,
   "id": "81370c4a",
   "metadata": {},
   "outputs": [
    {
     "data": {
      "text/plain": [
       "10 <nil>"
      ]
     },
     "execution_count": 8,
     "metadata": {},
     "output_type": "execute_result"
    }
   ],
   "source": [
    "a.Sum()"
   ]
  },
  {
   "cell_type": "code",
   "execution_count": 9,
   "id": "4a5a3a20",
   "metadata": {},
   "outputs": [
    {
     "data": {
      "text/plain": [
       "2 <nil>"
      ]
     },
     "execution_count": 9,
     "metadata": {},
     "output_type": "execute_result"
    }
   ],
   "source": [
    "a.Median()"
   ]
  },
  {
   "cell_type": "code",
   "execution_count": 10,
   "id": "e97dfbc3",
   "metadata": {},
   "outputs": [
    {
     "data": {
      "text/plain": [
       "2 <nil>"
      ]
     },
     "execution_count": 10,
     "metadata": {},
     "output_type": "execute_result"
    }
   ],
   "source": [
    "a.Mean()"
   ]
  }
 ],
 "metadata": {
  "kernelspec": {
   "display_name": "Go",
   "language": "go",
   "name": "gophernotes"
  },
  "language_info": {
   "codemirror_mode": "",
   "file_extension": ".go",
   "mimetype": "",
   "name": "go",
   "nbconvert_exporter": "",
   "pygments_lexer": "",
   "version": "go1.18.1"
  }
 },
 "nbformat": 4,
 "nbformat_minor": 5
}
